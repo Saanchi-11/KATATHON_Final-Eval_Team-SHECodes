{
  "nbformat": 4,
  "nbformat_minor": 0,
  "metadata": {
    "colab": {
      "provenance": []
    },
    "kernelspec": {
      "name": "python3",
      "display_name": "Python 3"
    },
    "language_info": {
      "name": "python"
    }
  },
  "cells": [
    {
      "cell_type": "code",
      "execution_count": 20,
      "metadata": {
        "id": "I9sSaNPgZdNh"
      },
      "outputs": [],
      "source": [
        "from google.colab import drive\n"
      ]
    },
    {
      "cell_type": "code",
      "source": [
        "#importing necessary libraries\n",
        "import pandas as pd\n",
        "import numpy as np\n",
        "import seaborn as sns\n",
        "import matplotlib.pyplot as plt\n",
        "from sklearn.model_selection import train_test_split\n",
        "from sklearn.ensemble import RandomForestClassifier\n",
        "from sklearn.metrics import accuracy_score, classification_report"
      ],
      "metadata": {
        "id": "gJUAM31BpA-F"
      },
      "execution_count": 21,
      "outputs": []
    },
    {
      "cell_type": "code",
      "source": [
        "#reading the dataset\n",
        "data = {\n",
        "    \"Sugar_Level\": [90, 150, 110, 130, 80, 145, 95, 160, 100, 140, 120, 85, 150, 120, 130, 105, 125, 95, 140, 125, 85, 160, 110, 95, 135, 115, 125, 120, 90, 100, 140, 110, 130, 100, 105, 90, 145, 125, 95, 150, 110, 135, 120, 105, 100, 90, 125, 145, 130, 120, 95, 140],\n",
        "    \"BP_Systolic\": [120, 130, 125, 135, 110, 140, 120, 145, 125, 138, 130, 115, 145, 125, 140, 128, 133, 115, 137, 130, 110, 145, 125, 118, 140, 120, 130, 128, 110, 125, 140, 120, 135, 120, 125, 118, 140, 130, 120, 145, 120, 138, 125, 130, 118, 110, 130, 138, 135, 128, 115, 145],\n",
        "    \"BP_Diastolic\": [80, 85, 80, 90, 70, 95, 80, 100, 80, 92, 85, 75, 95, 80, 90, 85, 88, 70, 92, 85, 70, 95, 80, 78, 90, 80, 85, 80, 70, 80, 95, 75, 90, 80, 80, 78, 95, 85, 80, 95, 85, 92, 80, 85, 78, 75, 85, 90, 88, 85, 70, 95],\n",
        "    \"Weight\": [65, 72, 70, 75, 60, 80, 68, 85, 72, 78, 71, 65, 82, 69, 76, 70, 77, 68, 80, 74, 60, 88, 71, 66, 74, 69, 73, 70, 62, 72, 78, 70, 76, 70, 71, 68, 82, 75, 70, 80, 73, 77, 74, 71, 68, 62, 72, 80, 75, 73, 65, 80],\n",
        "    \"Hemoglobin\": [14.2, 13.4, 13.8, 14.5, 12.1, 12.8, 15.0, 13.0, 14.0, 13.7, 14.3, 13.0, 11.5, 14.1, 12.0, 14.4, 13.3, 13.8, 12.5, 14.0, 11.9, 12.5, 14.2, 14.3, 13.0, 14.5, 12.7, 14.0, 13.5, 14.0, 13.0, 13.6, 12.5, 14.2, 13.7, 13.8, 11.6, 14.0, 14.4, 12.3, 14.0, 12.9, 13.6, 14.3, 13.8, 12.5, 14.0, 11.9, 13.5, 14.0, 13.2, 12.4],\n",
        "    \"Age\": [25, 30, 22, 28, 35, 50, 29, 40, 23, 32, 26, 30, 45, 33, 27, 24, 31, 21, 38, 29, 34, 46, 30, 32, 27, 29, 33, 24, 35, 28, 41, 22, 37, 25, 32, 29, 40, 33, 30, 42, 29, 35, 32, 28, 25, 30, 29, 50, 38, 24, 33, 47],\n",
        "    \"Donation\": [1, 0, 1, 1, 0, 0, 1, 0, 1, 0, 1, 1, 0, 1, 0, 1, 1, 1, 0, 1, 0, 0, 1, 1, 0, 1, 1, 1, 0, 1, 0, 1, 0, 1, 1, 1, 0, 1, 1, 0, 1, 0, 1, 1, 1, 0, 1, 0, 1, 1, 1, 0]\n",
        "}"
      ],
      "metadata": {
        "id": "tGYL7mgOpIQG"
      },
      "execution_count": 22,
      "outputs": []
    },
    {
      "cell_type": "code",
      "source": [
        "df = pd.DataFrame(data)\n",
        "\n",
        "# Display name and age of the first 5 customers\n",
        "print(df.head())"
      ],
      "metadata": {
        "colab": {
          "base_uri": "https://localhost:8080/"
        },
        "id": "8YOgV6ndp8aE",
        "outputId": "57e2bf93-8400-435a-ab9a-0b6414bd8cc5"
      },
      "execution_count": 23,
      "outputs": [
        {
          "output_type": "stream",
          "name": "stdout",
          "text": [
            "   Sugar_Level  BP_Systolic  BP_Diastolic  Weight  Hemoglobin  Age  Donation\n",
            "0           90          120            80      65        14.2   25         1\n",
            "1          150          130            85      72        13.4   30         0\n",
            "2          110          125            80      70        13.8   22         1\n",
            "3          130          135            90      75        14.5   28         1\n",
            "4           80          110            70      60        12.1   35         0\n"
          ]
        }
      ]
    },
    {
      "cell_type": "code",
      "source": [
        "X = df.drop(columns=[\"Donation\"])  # Features\n",
        "y = df[\"Donation\"]  # Target variable\n",
        "\n",
        "# Split into train and test sets\n",
        "X_train, X_test, y_train, y_test = train_test_split(X, y, test_size=0.2, random_state=42)\n",
        "\n",
        "# Initialize the Random Forest Classifier\n",
        "rf = RandomForestClassifier(n_estimators=100, random_state=42)\n",
        "\n",
        "# Train the model\n",
        "rf.fit(X_train, y_train)\n",
        "\n",
        "# Test the model\n",
        "y_pred = rf.predict(X_test)\n",
        "\n",
        "# Evaluate the model\n",
        "print(\"Accuracy:\", accuracy_score(y_test, y_pred))\n",
        "print(\"\\nClassification Report:\\n\", classification_report(y_test, y_pred))"
      ],
      "metadata": {
        "colab": {
          "base_uri": "https://localhost:8080/"
        },
        "id": "MwRuU-JhuRGL",
        "outputId": "7b569fab-e1f9-4479-d41f-3e5a1ddd5b32"
      },
      "execution_count": 24,
      "outputs": [
        {
          "output_type": "stream",
          "name": "stdout",
          "text": [
            "Accuracy: 1.0\n",
            "\n",
            "Classification Report:\n",
            "               precision    recall  f1-score   support\n",
            "\n",
            "           0       1.00      1.00      1.00         5\n",
            "           1       1.00      1.00      1.00         6\n",
            "\n",
            "    accuracy                           1.00        11\n",
            "   macro avg       1.00      1.00      1.00        11\n",
            "weighted avg       1.00      1.00      1.00        11\n",
            "\n"
          ]
        }
      ]
    }
  ]
}